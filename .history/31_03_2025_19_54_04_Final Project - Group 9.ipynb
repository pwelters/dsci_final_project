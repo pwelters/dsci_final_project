{
 "cells": [
  {
   "cell_type": "markdown",
   "id": "a8e943c5-8125-4414-b2b9-f996e54750d0",
   "metadata": {},
   "source": [
    "# Predicting Usage of a Video Game Research Server"
   ]
  },
  {
   "cell_type": "markdown",
   "id": "63775094-c4ac-4dfa-8d8c-e1529fa1e258",
   "metadata": {},
   "source": [
    "## From individual\n",
    "covers loading data, wrangling and cleaning data, summary of dataset, and exploratory visuals (will need to be changed a bit).\n",
    "\n",
    "Q: Can total time played predict whether or not they are subscribed to a newsletter"
   ]
  },
  {
   "cell_type": "markdown",
   "id": "6a5cefb4-5be0-4a85-a355-210ffcc1cc0a",
   "metadata": {
    "jp-MarkdownHeadingCollapsed": true
   },
   "source": [
    "### **Data Description for players.csv:**"
   ]
  },
  {
   "cell_type": "markdown",
   "id": "f4360ed4-e3a0-4e83-afe4-69021699b256",
   "metadata": {},
   "source": [
    "**Number of observations**: 196\n",
    "\n",
    "**Number of variables**: 7\n",
    "\n",
    "**Names and types of variables:**\n",
    "\n",
    "- experience: Character (chr)\n",
    "- subscribe: Logical (lgl)\n",
    "- hashedEmail: Character (chr)\n",
    "- played_hours: Double (dbl)\n",
    "- name: Character (chr)\n",
    "- gender: Character (chr)\n",
    "- Age: Double (dbl)\n",
    "\n",
    "**What does each variable mean?**\n",
    "\n",
    "- experience: The player's experience level in the game.\n",
    "- subscribe: Whether or not the player is subscribed to a gaming newsletter.\n",
    "- hashedEmail: The player's email.\n",
    "- played_hours: How many hours the player played for.\n",
    "- name: The real name of the player.\n",
    "- gender: The gender identity of the player.\n",
    "- Age: The age of the player.\n",
    "\n",
    "**Issues with the data**\n",
    "\n",
    "An issue with the dataset is that there are NA's present. The summary() function was used to create a summary of the data and it was determined that there were 2 NA values in the Age column. These NA values will make it difficult to perform summary statistics on the data set or use it for classification; thus, they must be removed.\n",
    "\n",
    "**Issues with how the data was collected**\n",
    "\n",
    "Much of the data appears to be self reported so it is difficult to determine the accuracy of the collected demographic information. One variable in particular that has a large potential to be innacurate is experience. Minecraft does not have a ranking system for players, so the experience levels such as Pro, Veteran, Amateur, etc. are all self reported by the players. As a result, there is potential for their experience level to be exagerated. The other variables also have potential to be innacurately reported as players could potentially lie about their age or input a gender that they do not actually identify with."
   ]
  },
  {
   "cell_type": "code",
   "execution_count": null,
   "id": "106535a9-31c3-45f8-9f2b-ed5c5eb9892d",
   "metadata": {},
   "outputs": [],
   "source": [
    "library(tidyverse) \n",
    "#This loads in the tidyverse package. This is the main package used in R to help tidy and present data.\n",
    "#It is neccessary to have this package downloaded for the functions used in this file to run.\n",
    "set.seed(42)\n",
    "#This seed makes the project reproducible."
   ]
  },
  {
   "cell_type": "code",
   "execution_count": null,
   "id": "d7a29ec9-85e9-4b5c-9707-82c543ee7550",
   "metadata": {},
   "outputs": [],
   "source": [
    "players <- read_csv(\"https://raw.githubusercontent.com/pwelters/dsci_project_data/refs/heads/main/players.csv\")\n",
    "#Now the players.csv file is being read into R from a public GitHub repository where it has been downloaded and uploaded to. \n",
    "#The dataset will now be visible in this file.\n",
    "summary(players)"
   ]
  },
  {
   "cell_type": "markdown",
   "id": "58dfa4c6-8eb0-4b05-9a57-3c72e19f6202",
   "metadata": {
    "jp-MarkdownHeadingCollapsed": true
   },
   "source": [
    "### **Question**"
   ]
  },
  {
   "cell_type": "markdown",
   "id": "59dba231-2e8c-4b6a-98a6-7e0564dbdb3a",
   "metadata": {},
   "source": [
    "**Can played hours accurately predict whether or not a player is subscribed to a gaming newsletter?**\n",
    "\n",
    "This question will be addressed using data from the players.csv dataset. I plan to select the data from the subscribe and played_hours columns and use these observations to plot several visualizations that will help to display the data, as well as perform a classification using these observations to determine if played_hours and Age can predict whether or not a player will subscribe to a gaming newsletter with accuracy.\n",
    "\n",
    "**Tidying Data**\n",
    "\n",
    "The data from the players dataset is already fairly tidy so it is not neccessary to do much wrangling. However, the Age column has NA values which will make it impossible to compute the mean. To tidy the data, an object called tidy_players was created to remove the NA values from the players dataset. The tidy_players object was then summarized and the mean values for the played_hours and Age columns were computed."
   ]
  },
  {
   "cell_type": "code",
   "execution_count": null,
   "id": "3e9f0deb-86fe-445a-bbee-f87cf9490d7e",
   "metadata": {},
   "outputs": [],
   "source": [
    "tidy_players <- drop_na(players)\n",
    "#drop_na is used to remove the NA values from the players dataset in order to calculate the mean for the quantitative variables."
   ]
  },
  {
   "cell_type": "code",
   "execution_count": null,
   "id": "bd1aae11-302e-4801-8d40-bb80d3659466",
   "metadata": {},
   "outputs": [],
   "source": [
    "players_summary <- tidy_players  |>\n",
    "summarize(played_hours_mean = mean(played_hours))\n",
    "\n",
    "players_summary"
   ]
  },
  {
   "cell_type": "markdown",
   "id": "1ef1ae62-cf89-43dd-9758-085779811599",
   "metadata": {},
   "source": [
    "**Mean value for played_hours**: 5.904 (hours)"
   ]
  },
  {
   "cell_type": "markdown",
   "id": "35b2b239-3d17-4b38-8285-ce5be6f8f527",
   "metadata": {
    "jp-MarkdownHeadingCollapsed": true
   },
   "source": [
    "### **Visualizations**"
   ]
  },
  {
   "cell_type": "code",
   "execution_count": null,
   "id": "901918f3-49f6-4364-8441-e9f29f089dbf",
   "metadata": {},
   "outputs": [],
   "source": [
    "plot_1 <- tidy_players |>\n",
    "ggplot(aes (x = Age, y = played_hours)) +\n",
    "geom_point() +\n",
    "labs(x = \"Age of player\", y = \"Time spent playing (hours)\") +\n",
    "ggtitle(\"The Relationship between Time Spent Playing and Age\")\n",
    "\n",
    "plot_1"
   ]
  },
  {
   "cell_type": "markdown",
   "id": "853fd658-7a4d-4af3-b89f-da5693fa45ed",
   "metadata": {},
   "source": [
    "This plot of the relationship between time spent playing and age aims to determine whether or not there is an obvious relationship between the played_hours and Age variables. The graph does not provide evidence of a trend."
   ]
  },
  {
   "cell_type": "code",
   "execution_count": null,
   "id": "b44226e9-798e-4fdc-8533-4d536e963725",
   "metadata": {},
   "outputs": [],
   "source": [
    "plot_2 <- tidy_players |>\n",
    "ggplot(aes( x = Age, y = played_hours))+\n",
    "geom_point(aes(color = subscribe)) +\n",
    "labs( x = \"Age of player\", y = \"Time spent playing (hours)\", color = \"Did the player subscribe to a gaming newsletter?\")+\n",
    "ggtitle(\"The Relationship between Time Spent Playing and Age\")\n",
    "\n",
    "plot_2"
   ]
  },
  {
   "cell_type": "markdown",
   "id": "2efd8a62-e133-4697-8111-92fd32ff5d31",
   "metadata": {},
   "source": [
    "This second plot was created to display the same data as the first plot, except this time each individual player is also labelled with whether or not they subscribe to a gaming newsletter. If the player does not subscribe to a newsletter, their subscribe value is FALSE and their point on the scatterplot is coloured orange. If the player does subscribe to a newsletter, their subscribe value is TRUE and their point on the scatterplot is coloured blue. This plot reveals much more about the dataset and provides valuable information that may be helpful in answering the question, \"Can played hours and age predict whether or not a player is subscribed to a gaming newsletter?\"\n",
    "\n",
    "There appears to be a relationship between the subscribe variable and Age and played_hours. Newsletter subscriptions and age seem to have a negative relationship as while age increases, less points on the graph show the subscribe value to be TRUE (i.e. less points are blue in colour). Most of the subscribers appear to be within ages 10 to 30. Newsletter subscriptions and time spent playing appear to have a positive relationship, as more blue points appear as time spent playing increases.\n",
    "\n",
    "These relationships give evidence to suggest that the Age and played_hours variables could be used to predict whether subscribe has a TRUE or FALSE value, and therefore predict whether or not a player is subscribed to a gaming newsletter."
   ]
  },
  {
   "cell_type": "code",
   "execution_count": null,
   "id": "122102e2-24a3-4301-a911-64c825a12ecc",
   "metadata": {},
   "outputs": [],
   "source": [
    "plot_3 <- tidy_players |>\n",
    "    ggplot(aes( x = played_hours))+\n",
    "    geom_histogram(alpha=0.5, position = \"identity\", aes(color = subscribe)) +\n",
    "    labs( x = \"Time spent playing (hours)\", y = \"Number of players\", color = \"Did the player subscribe to a gaming newsletter?\")+\n",
    "    ggtitle(\"Distribution of Players Based on Their Total Played Hours\") +\n",
    "facet_grid(.~subscribe)\n",
    "\n",
    "plot_3"
   ]
  },
  {
   "cell_type": "markdown",
   "id": "665270a3-c705-4aa0-a343-4003e19ee134",
   "metadata": {},
   "source": [
    "### **Method**"
   ]
  },
  {
   "cell_type": "markdown",
   "id": "2e670800-8e51-47f9-8269-87bd3748db4b",
   "metadata": {},
   "source": [
    "To answer the research question, a classifier will be constructed and it will be determined if it is more accurate than simply guessing whether or not someone is subscribed to a newsletter. We can see from the summary of the dataset that there were 144 TRUE responses and 52 false responses. If one were to guess TRUE for every response, they would have an accuracy of 144/196 or 73%. For this classifier to be useful and to prove that age and time played can predict whether or not an individual subscribes to a newsletter, it must have an accuracy greater than 73%.\n",
    "\n",
    "This method is appropriate as it both creates a classifier to answer one of the questions of interest, and determines whether or not the answers are accurate enough to warrant the use of the classifier.\n",
    "\n",
    "Some neccessary assumptions are that the players accurately reported their age and that the dataset is large enough to effectively train and test the classifier to the point that it can be trusted to accurately predict the class of an observation for which class is unknown.\n",
    "\n",
    "A potential limitation of this method is the gaps in collected data for the predictor variables. The majority of the data collected is from players aged 10 to 30 who played under 50 hours. The classifier could potentially have trouble predicting a class for data that falls outside this range as it will not encounter such values as often while being trained.\n",
    "\n",
    "A classification model was selected for this project as whether or not someone is subscribed to a newsletter is a class variable rather than a numerical value.\n",
    "\n",
    "To build the classifier, the data being analyzed must first be split into a training set and a test set. The data will be split with 75% of it going into the training set, and 25% into the test set. The training set is used to construct the classifier, which is then used to predict the class of different observations from the test set. Cross validation will be used to select the most accurate k value based on the dataset. Then, the accuracy of the classifier must be tested. To do so, a confusion matrix is generated which provides the values for the total number of correct classifications as well as the total number of all classifications. The metrics of this confusion matrix will then be determined and its accuracy will be calculated. This will give us the accuracy of the classifier. This accuracy value can be compared with the accuracy of just guessing (73%), and it will be determined whether or not the classifier is accurate enough to be deemed useful."
   ]
  },
  {
   "cell_type": "markdown",
   "id": "b3a1a056-0451-4279-b0f1-655fb8744400",
   "metadata": {},
   "source": [
    "## Data Analysis"
   ]
  },
  {
   "cell_type": "code",
   "execution_count": null,
   "id": "f229c96f-f2fe-4bd5-913a-03e5f4f5abc2",
   "metadata": {},
   "outputs": [],
   "source": []
  }
 ],
 "metadata": {
  "kernelspec": {
   "display_name": "R",
   "language": "R",
   "name": "ir"
  },
  "language_info": {
   "codemirror_mode": "r",
   "file_extension": ".r",
   "mimetype": "text/x-r-source",
   "name": "R",
   "pygments_lexer": "r",
   "version": "4.3.3"
  }
 },
 "nbformat": 4,
 "nbformat_minor": 5
}

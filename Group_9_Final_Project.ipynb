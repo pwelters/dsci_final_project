{
 "cells": [
  {
   "cell_type": "markdown",
   "id": "e103c586-92de-42c5-91c7-bfbbc60720dd",
   "metadata": {},
   "source": [
    "# Predicting Whether or Not a MineCraft Player is Subscribed to a Gaming Newsletter #"
   ]
  },
  {
   "cell_type": "markdown",
   "id": "a42fafed-e862-43c9-9782-7cd5207f08e0",
   "metadata": {},
   "source": [
    "**Group 9: Lilien B, Colin K, Lara M, Palmer W**\n",
    "  "
   ]
  },
  {
   "cell_type": "markdown",
   "id": "157d9b34-7f13-4525-ad56-ef5095ebf210",
   "metadata": {},
   "source": [
    "# Introduction: #"
   ]
  },
  {
   "cell_type": "markdown",
   "id": "2f68efc8-2e02-4a28-8c8f-6c95401dc35a",
   "metadata": {},
   "source": [
    "# Method: #"
   ]
  },
  {
   "cell_type": "markdown",
   "id": "ee95317f-95ec-415f-b94c-0a44ab3cc79c",
   "metadata": {},
   "source": [
    "# Discussion: #"
   ]
  },
  {
   "cell_type": "markdown",
   "id": "bd0e6b6d-56d2-4c55-9e85-efc7dee329fa",
   "metadata": {},
   "source": [
    "# Conclusion: #"
   ]
  },
  {
   "cell_type": "code",
   "execution_count": null,
   "id": "61af7b3a-6d22-4e96-81e7-05d430eb2382",
   "metadata": {},
   "outputs": [],
   "source": []
  }
 ],
 "metadata": {
  "kernelspec": {
   "display_name": "R",
   "language": "R",
   "name": "ir"
  },
  "language_info": {
   "codemirror_mode": "r",
   "file_extension": ".r",
   "mimetype": "text/x-r-source",
   "name": "R",
   "pygments_lexer": "r",
   "version": "4.3.3"
  }
 },
 "nbformat": 4,
 "nbformat_minor": 5
}
